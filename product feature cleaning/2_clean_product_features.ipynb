{
  "nbformat": 4,
  "nbformat_minor": 0,
  "metadata": {
    "colab": {
      "provenance": [],
      "include_colab_link": true
    },
    "kernelspec": {
      "name": "python3",
      "display_name": "Python 3"
    },
    "language_info": {
      "name": "python"
    }
  },
  "cells": [
    {
      "cell_type": "markdown",
      "metadata": {
        "id": "view-in-github",
        "colab_type": "text"
      },
      "source": [
        "<a href=\"https://colab.research.google.com/github/srao88/learn_to_rank/blob/main/product%20feature%20cleaning/2_clean_product_features.ipynb\" target=\"_parent\"><img src=\"https://colab.research.google.com/assets/colab-badge.svg\" alt=\"Open In Colab\"/></a>"
      ]
    },
    {
      "cell_type": "code",
      "source": [
        "import pandas as pd\n",
        "import numpy as np\n",
        "import pickle\n",
        "from google.colab import drive\n",
        "drive.mount('/content/drive')"
      ],
      "metadata": {
        "colab": {
          "base_uri": "https://localhost:8080/"
        },
        "id": "U-1PQAlYdLPE",
        "outputId": "0c4ddfbe-764c-41a6-a8c1-75f311ec6590"
      },
      "execution_count": 1,
      "outputs": [
        {
          "output_type": "stream",
          "name": "stdout",
          "text": [
            "Mounted at /content/drive\n"
          ]
        }
      ]
    },
    {
      "cell_type": "code",
      "execution_count": 2,
      "metadata": {
        "id": "dFpJszv6dJb7"
      },
      "outputs": [],
      "source": [
        "def import_and_clean_feature_set(df_feature_set):\n",
        "    '''\n",
        "    Objective:\n",
        "    Importing the product features to be used as independent variables in the model\n",
        "    \n",
        "    Input parameter:\n",
        "    query to be used for data import\n",
        "    \n",
        "    Output:\n",
        "    Cleaned feature set\n",
        "    \n",
        "    '''\n",
        "    #columns whose values can be replaced with zeros\n",
        "    zero_fill_cols = ['ttl_clicks_AE','ttl_impressions_AE','click_through_rate','discount_pct','time_since_launch','time_since_relaunch']\n",
        "    df_feature_set[zero_fill_cols] = df_feature_set[zero_fill_cols].fillna(0)\n",
        "    \n",
        "    df_feature_set['time_since_launch'] = df_feature_set['time_since_launch'].astype(int)\n",
        "    df_feature_set['time_since_relaunch'] = df_feature_set['time_since_relaunch'].astype(int)\n",
        "\n",
        "    #when there was click, we assume the availability was 100%, else 0%\n",
        "    df_feature_set['availability_dxb_pct'] = np.where((df_feature_set['ttl_clicks_AE']==0) & (pd.isna(df_feature_set['availability_dxb_pct'])), 0,df_feature_set['availability_dxb_pct']  ) \n",
        "    df_feature_set['availability_dxb_pct'] = np.where((df_feature_set['ttl_clicks_AE']>0) & (pd.isna(df_feature_set['availability_dxb_pct'])),100,df_feature_set['availability_dxb_pct'])\n",
        "\n",
        "\n",
        "    #relaunch flag\n",
        "    df_feature_set['relaunch_flag'] = np.where(pd.isna(df_feature_set['relaunched_at']),0,1)\n",
        "    df_feature_set['launched_last30days'] = np.where(df_feature_set['time_since_launch']<=30,1,0)\n",
        "    df_feature_set['launched_last7days'] = np.where(df_feature_set['time_since_launch']<=7,1,0)\n",
        "\n",
        "    df_feature_set['time_since_launch_bucket'] = np.select([df_feature_set['time_since_launch']<=7,\n",
        "                                                (df_feature_set['time_since_launch']>7) & (df_feature_set['time_since_launch']<=14),\n",
        "                                                (df_feature_set['time_since_launch']>14) & (df_feature_set['time_since_launch']<=30),\n",
        "                                                (df_feature_set['time_since_launch']>30)],\n",
        "                                                ['0-7','7-14','14-30','30+'],\n",
        "                                               '30+')\n",
        "\n",
        "\n",
        "    #if the product has never been relaunched, then time_since_relaunch will be equal to time since launch\n",
        "    df_feature_set['time_since_relaunch'] = np.where(pd.isna(df_feature_set['time_since_relaunch']),df_feature_set['time_since_launch'],df_feature_set['time_since_relaunch'])\n",
        "\n",
        "    #creating time since re-launch bucket\n",
        "    df_feature_set['time_since_relaunch_bucket'] = np.select([df_feature_set['time_since_relaunch']<=7,\n",
        "                                                (df_feature_set['time_since_relaunch']>7) & (df_feature_set['time_since_relaunch']<=14),\n",
        "                                                (df_feature_set['time_since_relaunch']>14) & (df_feature_set['time_since_relaunch']<=30),\n",
        "                                                (df_feature_set['time_since_relaunch']>30)],\n",
        "                                                ['0-7','7-14','14-30','30+'],\n",
        "                                               '30+')\n",
        "\n",
        "    #creating bucket for discount percentage\n",
        "    buckets = [0,10,20,30,40,50,60,70,80,90,101]\n",
        "    df_feature_set['discount_bucket'] = pd.cut(df_feature_set['discount_pct'],bins = buckets)\n",
        "    df_feature_set['discount_bucket'] = df_feature_set['discount_bucket'].astype(str)\n",
        "\n",
        "\n",
        "    #attaching not available to all cases where following colums are missing\n",
        "    df_feature_set[['world_tag','upper_material','lining_material','sole_material','season_grouped_ty']] = df_feature_set[['world_tag','upper_material','lining_material','sole_material','season_grouped_ty']].fillna(\"NA\")\n",
        "\n",
        "    #Dropping unwanted columns\n",
        "    to_be_dropped = ['season','season_number','relaunched_at','activated_at']\n",
        "    df_feature_set.drop(to_be_dropped,axis=1,inplace=True)\n",
        "    \n",
        "    return df_feature_set\n",
        "\n",
        "\n",
        "cleaned_features = import_and_clean_feature_set(pd.read_pickle('drive/MyDrive/Training Data/stage 1/df_query2.pkl'))\n",
        "cleaned_features.to_csv('drive/MyDrive/Training Data/stage 2/cleaned_prod_feature_set.pkl')"
      ]
    }
  ]
}